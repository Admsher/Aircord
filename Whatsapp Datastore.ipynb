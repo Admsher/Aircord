{
 "cells": [
  {
   "cell_type": "code",
   "execution_count": 2,
   "metadata": {},
   "outputs": [
    {
     "ename": "FileNotFoundError",
     "evalue": "[Errno 2] No such file or directory: '               '",
     "output_type": "error",
     "traceback": [
      "\u001b[1;31m---------------------------------------------------------------------------\u001b[0m",
      "\u001b[1;31mFileNotFoundError\u001b[0m                         Traceback (most recent call last)",
      "Input \u001b[1;32mIn [2]\u001b[0m, in \u001b[0;36m<module>\u001b[1;34m\u001b[0m\n\u001b[0;32m      1\u001b[0m \u001b[38;5;66;03m# read text from file \u001b[39;00m\n\u001b[0;32m      2\u001b[0m file_location \u001b[38;5;241m=\u001b[39m \u001b[38;5;124m'\u001b[39m\u001b[38;5;124m               \u001b[39m\u001b[38;5;124m'\u001b[39m\n\u001b[1;32m----> 3\u001b[0m \u001b[38;5;28;01mwith\u001b[39;00m \u001b[38;5;28;43mopen\u001b[39;49m\u001b[43m(\u001b[49m\u001b[43mfile_location\u001b[49m\u001b[43m)\u001b[49m \u001b[38;5;28;01mas\u001b[39;00m f:\n\u001b[0;32m      4\u001b[0m   data \u001b[38;5;241m=\u001b[39m f\u001b[38;5;241m.\u001b[39mread()\n\u001b[0;32m      5\u001b[0m   data \u001b[38;5;241m=\u001b[39m \u001b[38;5;124m'\u001b[39m\u001b[38;5;124m \u001b[39m\u001b[38;5;124m'\u001b[39m\u001b[38;5;241m.\u001b[39mjoin(data\u001b[38;5;241m.\u001b[39msplit(\u001b[38;5;124m'\u001b[39m\u001b[38;5;130;01m\\n\u001b[39;00m\u001b[38;5;124m'\u001b[39m))\n",
      "\u001b[1;31mFileNotFoundError\u001b[0m: [Errno 2] No such file or directory: '               '"
     ]
    }
   ],
   "source": [
    "# read text from file \n",
    "file_location = '               '\n",
    "with open(file_location) as f:\n",
    "  data = f.read()\n",
    "  data = ' '.join(data.split('\\n'))\n",
    "\n",
    "#separate user messages and datetime of the chat\n",
    "import re\n",
    "pattern = '\\d{1,2}/\\d{1,2}/\\d{2,4},\\s\\d{1,2}:\\d{2}\\s-\\s'\n",
    "user_messages = re.split(pattern, data)[1:]\n",
    "message_dates =  re.findall(pattern, data)\n",
    "print(data)\n",
    "print(user_messages)\n",
    "# print(message_dates)\n",
    "# load user messages and dates into dataframe\n",
    "import pandas as pd\n",
    "df = pd.DataFrame({'user_message':user_messages, 'message_date': message_dates})\n",
    "# convert message_date type\n",
    "df['message_date'] = pd.to_datetime(df['message_date'], format='%d/%m/%Y, %H:%M - ')\n",
    "\n",
    "df.rename(columns={'message_date': 'date'}, inplace=True)\n",
    "\n",
    "# separate users and messages \n",
    "users = []\n",
    "messages = []\n",
    "for message in df['user_message']:\n",
    "  entry = re.split('([\\w\\W]+?):\\s', message)\n",
    "  if entry[1:]:# user name\n",
    "    users.append(entry[1])\n",
    "    messages.append(entry[2])\n",
    "  else:\n",
    "    users.append('group_notification')\n",
    "    messages.append(entry[0])\n",
    "\n",
    "df['user'] =  users\n",
    "df['message'] = messages\n",
    "df.drop(columns=['user_message'], inplace=True)\n",
    "\n",
    "print(df.tail())"
   ]
  },
  {
   "cell_type": "code",
   "execution_count": null,
   "metadata": {},
   "outputs": [],
   "source": [
    "# data cleaning \n",
    "# 1. remove all the <Media omitted> messages\n",
    "images = df[df['message'] == '<Media omitted> ']\n",
    "print(\"Total number of Images + Videos Shared: \", len(images))\n",
    "df.drop(images.index, inplace=True)\n",
    "# 2. remove all group notifications\n",
    "notifications = df[df['user'] == 'group_notification']\n",
    "print(\"Total Group Notifications: \", len(notifications))\n",
    "df.drop(notifications.index, inplace=True)\n",
    "\n",
    "# reset the index \n",
    "df.reset_index(inplace=True, drop=True)\n",
    "df.tail()"
   ]
  }
 ],
 "metadata": {
  "interpreter": {
   "hash": "ac0d7c820a63962ab5ad11ccbecfde7304ce37fffa39d0118948dd04543cb991"
  },
  "kernelspec": {
   "display_name": "Python 3.9.10 64-bit (windows store)",
   "language": "python",
   "name": "python3"
  },
  "language_info": {
   "codemirror_mode": {
    "name": "ipython",
    "version": 3
   },
   "file_extension": ".py",
   "mimetype": "text/x-python",
   "name": "python",
   "nbconvert_exporter": "python",
   "pygments_lexer": "ipython3",
   "version": "3.9.10"
  },
  "orig_nbformat": 4
 },
 "nbformat": 4,
 "nbformat_minor": 2
}
